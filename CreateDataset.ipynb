{
 "cells": [
  {
   "cell_type": "code",
   "execution_count": 1,
   "metadata": {},
   "outputs": [],
   "source": [
    "import csv\n",
    "import time\n",
    "import numpy as np\n",
    "import pandas as pd\n",
    "import datetime as dt\n",
    "from datetime import date\n",
    "from datetime import datetime\n",
    "from datetime import timedelta\n",
    "import matplotlib.pyplot as plt"
   ]
  },
  {
   "cell_type": "code",
   "execution_count": 2,
   "metadata": {},
   "outputs": [
    {
     "data": {
      "text/plain": [
       "86"
      ]
     },
     "execution_count": 2,
     "metadata": {},
     "output_type": "execute_result"
    }
   ],
   "source": [
    "file = open(\"Activity_clean.csv\", \"w\", encoding=\"utf8\")\n",
    "f = csv.writer(file)\n",
    "f.writerow([\"Userid\", \"senseStartTimeMillis\", \"senseStartTime\", \"Activity\", \"Survey Date\", \"Final Date\", \"Time\", \"ADHD\"])"
   ]
  },
  {
   "cell_type": "code",
   "execution_count": 3,
   "metadata": {},
   "outputs": [],
   "source": [
    "df = pd.read_csv(\"weekly_data_for_visualization.csv\")\n",
    "ids = df[\"Q317\"].unique()\n",
    "ids=ids[:-2] #only keeping the numbers of ids"
   ]
  },
  {
   "cell_type": "code",
   "execution_count": 4,
   "metadata": {},
   "outputs": [],
   "source": [
    "# dictionary of ADHD labels for each user id\n",
    "ADHD_dict = {}\n",
    "baseline = pd.read_csv(\"sassema baseline 3.16.2023.csv\")\n",
    "baseline['ID'] = baseline['ID'].fillna(0)\n",
    "\n",
    "for index in baseline.index:\n",
    "    if index > 1:\n",
    "        if baseline[\"ID\"][index] != 0:\n",
    "            if baseline[\"ID\"][index] == \"773\":\n",
    "                baseline[\"ID\"][index] = \"773684\"\n",
    "            if baseline[\"ADHDSx_Dx\"][index] == \"No\":\n",
    "                ADHD_dict[int(baseline[\"ID\"][index])] = 0\n",
    "            elif baseline[\"ADHDSx_Dx\"][index] == \"Yes\":\n",
    "                ADHD_dict[int(baseline[\"ID\"][index])] = 1"
   ]
  },
  {
   "cell_type": "code",
   "execution_count": 5,
   "metadata": {},
   "outputs": [],
   "source": [
    "# create a list of dates from mili sec\n",
    "def changeDateType(dates):\n",
    "    date_final = [i.split(\" \")[0] for i in dates]\n",
    "    converted_dates = []\n",
    "    for i in range(0,len(date_final)):  \n",
    "        date_object = datetime.strptime(date_final[i], '%m/%d/%Y')\n",
    "        converted_dates.append(date_object)\n",
    "    return converted_dates"
   ]
  },
  {
   "cell_type": "code",
   "execution_count": 6,
   "metadata": {},
   "outputs": [],
   "source": [
    "def changeYYMMDD(date):\n",
    "    index = date.index(\"-\")\n",
    "    date = date[index-4:index+6]\n",
    "    date = date.replace(\"-\",\"/\")\n",
    "    date_object = datetime.strptime(date, '%Y/%m/%d')\n",
    "\n",
    "    return date_object"
   ]
  },
  {
   "cell_type": "code",
   "execution_count": 7,
   "metadata": {},
   "outputs": [],
   "source": [
    "def addBaseLine(idf,surveyKeep):\n",
    "    df = pd.read_csv(\"sassema baseline 3.16.2023.csv\")\n",
    "\n",
    "    if idf == \"773684\":\n",
    "        idf = \"773\"\n",
    "    \n",
    "    baselineDate = str(df.loc[df[\"ID\"]==idf, 'StartDate'])\n",
    "\n",
    "    date_object = changeYYMMDD(baselineDate)\n",
    "\n",
    "    surveyKeep.insert(0,date_object)"
   ]
  },
  {
   "cell_type": "code",
   "execution_count": 8,
   "metadata": {},
   "outputs": [],
   "source": [
    "def addFinalDate():\n",
    "    de = pd.read_csv(\"Activity_joined.csv\")\n",
    "    dates_milli = de[\" senseStartTime\"].tolist()\n",
    "    date_mili_strip = [i.replace(\"'\", \"\") for i in dates_milli]\n",
    "    date_final = [i.split(\"T\")[0] for i in date_mili_strip]\n",
    "\n",
    "    converted_dates = []\n",
    "\n",
    "    for i in date_final:  # create a list fo dates from mili sec\n",
    "        converted_dates.append(i)\n",
    "\n",
    "    de[\"Final Date\"] = converted_dates  # new conlumn of dates only\n",
    "    de.to_csv(\"Activity_joined.csv\", index=False)"
   ]
  },
  {
   "cell_type": "code",
   "execution_count": 9,
   "metadata": {},
   "outputs": [],
   "source": [
    "Userid = [] \n",
    "senseStartTimeMillis = [] \n",
    "senseStartTime = [] \n",
    "Activiy = [] \n",
    "SurveyDate = []\n",
    "FinalDate = []\n",
    "ADHD = []\n",
    "\n",
    "threshold = 4\n",
    "addFinalDate()\n",
    "de = pd.read_csv(\"Activity_joined.csv\")\n",
    "for id in ids:\n",
    "    # dates\n",
    "    surveydates = df.loc[df[\"Q317\"]==id, 'StartDate'] \n",
    "    # add the survey dates of a user id to a list\n",
    "    surveyKeep = changeDateType(surveydates)\n",
    "\n",
    "    addBaseLine(id,surveyKeep)\n",
    "    \n",
    "    # DECIDE WHAT SURVEY DATES ARE KEPT \n",
    "    i = 1\n",
    "    # discard current survey if the time interval between previous and current survey is not 7 \n",
    "    while i < len(surveyKeep):\n",
    "\n",
    "        numDays = surveyKeep[i] - surveyKeep[i-1]\n",
    "        strDays = str(numDays)\n",
    "\n",
    "        difference = strDays.split(\" \")[0]\n",
    "        difference = int(difference)\n",
    "\n",
    "        if difference < 7:\n",
    "            surveyKeep.pop(i) \n",
    "\n",
    "        else: \n",
    "            i = i + 1 \n",
    "    \n",
    "    # DECIDE WHAT SENING DATES ARE KEPT BASED ON TRESHOLD \n",
    "    \n",
    "    \n",
    "    \n",
    "    #create a list of sensing data\n",
    "\n",
    "    sensingDates = de.loc[(de[\"Userid\"])==int(id), 'Final Date'] \n",
    "    sensingKeep = []\n",
    "\n",
    "    if len(sensingDates) != 0:\n",
    "        for d in sensingDates:\n",
    "            date_object = changeYYMMDD(d)\n",
    "            if date_object not in sensingKeep:\n",
    "                sensingKeep.append(date_object)\n",
    "    count = 0\n",
    "    for i in range(1,len(surveyKeep)):\n",
    "        if (len(sensingKeep) != 0):\n",
    "            count = 0\n",
    "\n",
    "            for j in range(0,len(sensingKeep)):\n",
    "                if surveyKeep[i] == sensingKeep[j]:\n",
    "                    numDiff = 0\n",
    "                else: \n",
    "                    numDiff = surveyKeep[i] - sensingKeep[j]\n",
    "                    numDiff = str(numDiff)\n",
    "                    numDiff = numDiff.split(\" \")[0]\n",
    "                    numDiff = int(numDiff)\n",
    "                if (numDiff < 7) and (numDiff >= 0):\n",
    "                    count += 1\n",
    "                    \n",
    "        id_df = de.loc[(de[\"Userid\"])==int(id)]  \n",
    "        id_df.to_csv(\"temp.csv\", index=False)\n",
    "        id_de = pd.read_csv(\"temp.csv\")\n",
    "        \n",
    "#         print(surveyKeep[i])\n",
    "        stringSurvey = str(surveyKeep[i])\n",
    "        stringSurvey = stringSurvey.split(\" \")[0]\n",
    "#         print(stringSurvey)\n",
    "        \n",
    "        if (count >= threshold):\n",
    "            # iterate through the final date column when Userid=id\n",
    "            for k in range(len(id_de[\"Final Date\"])):\n",
    "#                 print(k)\n",
    "                date = id_de.loc[id_de.index[k], 'Final Date']\n",
    "                dateObject = changeYYMMDD(date)\n",
    "#                 print(id, date)\n",
    "                if surveyKeep[i] == dateObject:\n",
    "                    numDiff = 0\n",
    "                else:\n",
    "                    numDiff = surveyKeep[i] - dateObject\n",
    "                    numDiff = str(numDiff)\n",
    "                    numDiff = numDiff.split(\" \")[0]\n",
    "                    numDiff = int(numDiff)\n",
    "                \n",
    "                # if final date is within 7 day interval from survey date\n",
    "                if (numDiff < 7) and (numDiff >= 0):\n",
    "                    # append to all lists\n",
    "                    Userid.append(id_de.loc[k, 'Userid']) \n",
    "                    senseStartTimeMillis.append(id_de.loc[k, ' senseStartTimeMillis'])  \n",
    "                    senseStartTime.append(id_de.loc[k, ' senseStartTime'])\n",
    "                    Activiy.append(id_de.loc[k, ' Activity'])\n",
    "                    SurveyDate.append(stringSurvey)\n",
    "                    FinalDate.append(id_de.loc[k, 'Final Date'])\n",
    "                    ADHD.append(ADHD_dict[id_de.loc[k, 'Userid']])\n",
    "\n",
    "        "
   ]
  },
  {
   "cell_type": "code",
   "execution_count": 10,
   "metadata": {},
   "outputs": [],
   "source": [
    "for l in range(len(Userid)):\n",
    "    FinalDate[l] = FinalDate[l][1:]\n",
    "    index = senseStartTime[l].index(\"T\")\n",
    "    time = senseStartTime[l][(index+1):]\n",
    "    f.writerow([Userid[l], senseStartTimeMillis[l], senseStartTime[l], Activiy[l], '\"' + SurveyDate[l] + '\"','\"' + FinalDate[l] + '\"','\"' + time + '\"',ADHD[l]])\n",
    "\n",
    "file.close()"
   ]
  },
  {
   "cell_type": "code",
   "execution_count": 11,
   "metadata": {},
   "outputs": [],
   "source": [
    "# sort the values in the csv file by Userid and time of activity \n",
    "df = pd.read_csv(\"Activity_clean.csv\")\n",
    "\n",
    "df = df.sort_values(by=['Userid','senseStartTimeMillis'],ascending=[True,True])\n",
    "df.to_csv('Activity_clean.csv',index=False)"
   ]
  }
 ],
 "metadata": {
  "kernelspec": {
   "display_name": "Python 3 (ipykernel)",
   "language": "python",
   "name": "python3"
  },
  "language_info": {
   "codemirror_mode": {
    "name": "ipython",
    "version": 3
   },
   "file_extension": ".py",
   "mimetype": "text/x-python",
   "name": "python",
   "nbconvert_exporter": "python",
   "pygments_lexer": "ipython3",
   "version": "3.8.5"
  }
 },
 "nbformat": 4,
 "nbformat_minor": 2
}
