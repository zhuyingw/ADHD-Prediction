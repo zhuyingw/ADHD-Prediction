{
 "cells": [
  {
   "cell_type": "code",
   "execution_count": 7,
   "id": "49125b69",
   "metadata": {},
   "outputs": [],
   "source": [
    "import csv\n",
    "import numpy as np\n",
    "import pandas as pd\n",
    "import matplotlib.pyplot as plt\n",
    "import scipy.stats"
   ]
  },
  {
   "cell_type": "code",
   "execution_count": 8,
   "id": "87c4fe95",
   "metadata": {},
   "outputs": [],
   "source": [
    "df=pd.read_csv(\"Feature_mapping.csv\") \n",
    "# features\n",
    "x1 = df['Still Morning'].tolist()\n",
    "x2 = df['Still Afternoon'].tolist()\n",
    "x3 = df['Still Evening'].tolist()\n",
    "x4 = df['Still Night'].tolist()\n",
    "x5 = df['Running Morning'].tolist()\n",
    "x6 = df['Running Afternoon'].tolist()\n",
    "x7 = df['Running Evening'].tolist()\n",
    "x8 = df['Running Night'].tolist()\n",
    "\n",
    "# ADHD score\n",
    "y = df['ADHDScore'].tolist()"
   ]
  },
  {
   "cell_type": "code",
   "execution_count": 10,
   "id": "90cbf28c",
   "metadata": {},
   "outputs": [
    {
     "name": "stdout",
     "output_type": "stream",
     "text": [
      "The Pearson correlation coefficient for the 'Still Morning' feature: -0.18593184427782955\n"
     ]
    }
   ],
   "source": [
    "# Correlation between 1st feature and ADHD score\n",
    "r1, p1 = scipy.stats.pearsonr(x1, y)\n",
    "print(\"The Pearson correlation coefficient for the 'Still Morning' feature:\", r1)"
   ]
  },
  {
   "cell_type": "code",
   "execution_count": 11,
   "id": "22590178",
   "metadata": {},
   "outputs": [
    {
     "name": "stdout",
     "output_type": "stream",
     "text": [
      "The Pearson correlation coefficient for the 'Still Afternoon' feature: -0.20135544150521467\n"
     ]
    }
   ],
   "source": [
    "# Correlation between 2nd feature and ADHD score\n",
    "r2, p2 = scipy.stats.pearsonr(x2, y)\n",
    "print(\"The Pearson correlation coefficient for the 'Still Afternoon' feature:\", r2)"
   ]
  },
  {
   "cell_type": "code",
   "execution_count": 12,
   "id": "ccc1325a",
   "metadata": {},
   "outputs": [
    {
     "name": "stdout",
     "output_type": "stream",
     "text": [
      "The Pearson correlation coefficient for the 'Still Evening' feature: -0.07479282645711625\n"
     ]
    }
   ],
   "source": [
    "# Correlation between 3rd feature and ADHD score\n",
    "r3, p3 = scipy.stats.pearsonr(x3, y)\n",
    "print(\"The Pearson correlation coefficient for the 'Still Evening' feature:\", r3)"
   ]
  },
  {
   "cell_type": "code",
   "execution_count": 13,
   "id": "59ec3f73",
   "metadata": {},
   "outputs": [
    {
     "name": "stdout",
     "output_type": "stream",
     "text": [
      "The Pearson correlation coefficient for the 'Still Morning' feature: -0.30914525134779\n"
     ]
    }
   ],
   "source": [
    "# Correlation between 4th feature and ADHD score\n",
    "r4, p4 = scipy.stats.pearsonr(x4, y)\n",
    "print(\"The Pearson correlation coefficient for the 'Still Morning' feature:\", r4)"
   ]
  },
  {
   "cell_type": "code",
   "execution_count": 14,
   "id": "99f10798",
   "metadata": {},
   "outputs": [
    {
     "name": "stdout",
     "output_type": "stream",
     "text": [
      "The Pearson correlation coefficient for the 'Running Morning' feature: -0.14832063361759856\n"
     ]
    }
   ],
   "source": [
    "# Correlation between 5th feature and ADHD score\n",
    "r5, p5 = scipy.stats.pearsonr(x5, y)\n",
    "print(\"The Pearson correlation coefficient for the 'Running Morning' feature:\", r5)"
   ]
  },
  {
   "cell_type": "code",
   "execution_count": 15,
   "id": "74146f83",
   "metadata": {},
   "outputs": [
    {
     "name": "stdout",
     "output_type": "stream",
     "text": [
      "The Pearson correlation coefficient for the 'Running Afternoon' feature: -0.31568917602757596\n"
     ]
    }
   ],
   "source": [
    "# Correlation between 6th feature and ADHD score\n",
    "r6, p6 = scipy.stats.pearsonr(x6, y)\n",
    "print(\"The Pearson correlation coefficient for the 'Running Afternoon' feature:\", r6)"
   ]
  },
  {
   "cell_type": "code",
   "execution_count": 16,
   "id": "1a274360",
   "metadata": {},
   "outputs": [
    {
     "name": "stdout",
     "output_type": "stream",
     "text": [
      "The Pearson correlation coefficient for the 'Running Evening' feature: -0.17855419554881544\n"
     ]
    }
   ],
   "source": [
    "# Correlation between 7th feature and ADHD score\n",
    "r7, p7 = scipy.stats.pearsonr(x7, y)\n",
    "print(\"The Pearson correlation coefficient for the 'Running Evening' feature:\", r7)"
   ]
  },
  {
   "cell_type": "code",
   "execution_count": 17,
   "id": "50e2840b",
   "metadata": {},
   "outputs": [
    {
     "name": "stdout",
     "output_type": "stream",
     "text": [
      "The Pearson correlation coefficient for the 'Running Morning' feature: 0.04688147559323243\n"
     ]
    }
   ],
   "source": [
    "# Correlation between 8th feature and ADHD score\n",
    "r8, p8 = scipy.stats.pearsonr(x8, y)\n",
    "print(\"The Pearson correlation coefficient for the 'Running Morning' feature:\", r8)"
   ]
  }
 ],
 "metadata": {
  "kernelspec": {
   "display_name": "Python 3 (ipykernel)",
   "language": "python",
   "name": "python3"
  },
  "language_info": {
   "codemirror_mode": {
    "name": "ipython",
    "version": 3
   },
   "file_extension": ".py",
   "mimetype": "text/x-python",
   "name": "python",
   "nbconvert_exporter": "python",
   "pygments_lexer": "ipython3",
   "version": "3.8.5"
  }
 },
 "nbformat": 4,
 "nbformat_minor": 5
}
