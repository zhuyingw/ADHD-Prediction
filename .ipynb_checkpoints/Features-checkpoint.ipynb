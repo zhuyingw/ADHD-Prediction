{
 "cells": [
  {
   "cell_type": "code",
   "execution_count": 1,
   "id": "2a7d6e1f",
   "metadata": {},
   "outputs": [],
   "source": [
    "import csv\n",
    "import time\n",
    "import numpy as np\n",
    "import pandas as pd\n",
    "import datetime as dt\n",
    "from datetime import date\n",
    "from datetime import datetime\n",
    "from datetime import timedelta\n",
    "import matplotlib.pyplot as plt"
   ]
  },
  {
   "cell_type": "code",
   "execution_count": 2,
   "id": "8861be24",
   "metadata": {},
   "outputs": [
    {
     "data": {
      "text/plain": [
       "184"
      ]
     },
     "execution_count": 2,
     "metadata": {},
     "output_type": "execute_result"
    }
   ],
   "source": [
    "file = open(\"Feature_mapping.csv\", \"w\", encoding=\"utf8\")\n",
    "f = csv.writer(file)\n",
    "\n",
    "# Feature columns + label for each Userid\n",
    "f.writerow([\"Userid\", \"Still Morning Weekday\", \"Still Afternoon Weekday\", \"Still Evening Weekday\", \"Still Night Weekday\", \n",
    "            \"Still Morning Weekend\", \"Still Afternoon Weekend\", \"Still Evening Weekend\",  \"Still Night Weekend\"])"
   ]
  },
  {
   "cell_type": "code",
   "execution_count": 3,
   "id": "3289d761",
   "metadata": {},
   "outputs": [
    {
     "data": {
      "text/plain": [
       "array([158455, 313449, 351278, 446875, 453897, 483491, 494149, 547832,\n",
       "       738648, 773684, 873115, 931499, 953571])"
      ]
     },
     "execution_count": 3,
     "metadata": {},
     "output_type": "execute_result"
    }
   ],
   "source": [
    "df = pd.read_csv(\"Activity_clean.csv\")\n",
    "df = df.sort_values(by=['Userid','senseStartTimeMillis'],ascending=[True,True])\n",
    "\n",
    "# get the list of ordered ids\n",
    "ids = df[\"Userid\"].unique()\n",
    "ids\n",
    "# get the list of ordered surveyDates\n",
    "# surveyDates = df.loc[\"Survey Date\"].unique()\n"
   ]
  },
  {
   "cell_type": "code",
   "execution_count": 4,
   "id": "ec1dd9e7",
   "metadata": {},
   "outputs": [],
   "source": [
    "Userid = []\n",
    "StillMorningWeekday = []"
   ]
  },
  {
   "cell_type": "code",
   "execution_count": 5,
   "id": "8b14ff2d",
   "metadata": {},
   "outputs": [],
   "source": [
    "def identifyTime(time,weekday):\n",
    "    if weekday == 1:\n",
    "        t = \"06:00:00\"\n",
    "        morning = datetime.strptime(t, \"%H:%M:%S\").time()\n",
    "        t = \"22:00:00\"\n",
    "        night = datetime.strptime(t, \"%H:%M:%S\").time()\n",
    "    else:\n",
    "        t = \"08:00:00\"\n",
    "        morning = datetime.strptime(t, \"%H:%M:%S\").time()\n",
    "        t = \"23:59:59\"\n",
    "        night = datetime.strptime(t, \"%H:%M:%S\").time()\n",
    "    t = \"12:00:00\"\n",
    "    afternoon = datetime.strptime(t, \"%H:%M:%S\").time()\n",
    "    t = \"17:00:00\"\n",
    "    evening = datetime.strptime(t, \"%H:%M:%S\").time()\n",
    "    time = time[1:-2]\n",
    "    time_obj = datetime.strptime(time, \"%H:%M:%S\").time()\n",
    "    \n",
    "    if weekday == 1:\n",
    "        if time_obj < morning or time_obj >= night:\n",
    "            return \"night\"\n",
    "    else:\n",
    "        if time_obj < morning:\n",
    "            return \"night\"\n",
    "    if time_obj >= morning and time_obj < afternoon:\n",
    "        return \"morning\"\n",
    "    if time_obj >= afternoon and time_obj < evening:\n",
    "        return \"afternoon\"\n",
    "    if time_obj >= evening and time_obj <= night:\n",
    "        return \"evening\""
   ]
  },
  {
   "cell_type": "code",
   "execution_count": 6,
   "id": "05b65135",
   "metadata": {},
   "outputs": [],
   "source": [
    "def determineWeekday(date):\n",
    "    time = date\n",
    "    time = time[2:-1]\n",
    "    time = time.replace(\"T\", \" \")\n",
    "    time = time.replace(\"-\", \"/\")\n",
    "    datetime_object = datetime.strptime(time, '%Y/%m/%d %H:%M:%S')\n",
    "    dayOfTheWeek = datetime_object.weekday()\n",
    "\n",
    "    if dayOfTheWeek >= 0 and dayOfTheWeek <= 4:\n",
    "        weekday = 1\n",
    "    else:\n",
    "        weekday = 0\n",
    "    \n",
    "    return weekday, dayOfTheWeek\n",
    "    "
   ]
  },
  {
   "cell_type": "code",
   "execution_count": 18,
   "id": "31c1ca9b",
   "metadata": {},
   "outputs": [],
   "source": [
    "def CalculateStill(de_date, index, threshold, first, last):\n",
    "    thr = 0 \n",
    "    timeStill = 0\n",
    "    toAdd = 0 \n",
    "#     print(\"Losing it\",de_date['Activity'][index],index)\n",
    "#     previousStill = 0\n",
    "    # check if the element before is \"Still\"\n",
    "    if first == 0:\n",
    "        previousStill = 0\n",
    "#     if de_date['Activity'][index-1] == \" 'Still'\":\n",
    "#         print(\"here\", de_date['Activity'][index-1])\n",
    "#             previousStill = 0\n",
    "    else:\n",
    "        if de_date['Activity'][index-1] != \" 'Still'\":\n",
    "            previousStill = 0\n",
    "        else:\n",
    "            diff = de_date['senseStartTimeMillis'][index+1] - de_date['senseStartTimeMillis'][index]\n",
    "#             print(diff,index)\n",
    "            if diff > 3600000:\n",
    "                previousStill = 0\n",
    "            else:\n",
    "                previousStill = 1\n",
    "#             print(diff,de_date['Activity'][index-1], previousStill)\n",
    "    \n",
    "    # check if the element after is \"Still\"\n",
    "    if last == len(de_date['Activity']) - 1:\n",
    "        afterStill = 0\n",
    "    else:\n",
    "        if de_date['Activity'][index+1] != \" 'Still'\":\n",
    "            afterStill = 0\n",
    "        else:\n",
    "            diff = de_date['senseStartTimeMillis'][index+1] - de_date['senseStartTimeMillis'][index]\n",
    "            # make param\n",
    "            if diff > 3600000:\n",
    "                afterStill = 0\n",
    "            else:\n",
    "                afterStill = 1\n",
    "    \n",
    "    if afterStill == 0 and last != len(de_date['Activity']) - 1:\n",
    "        diff = de_date['senseStartTimeMillis'][index+1] - de_date['senseStartTimeMillis'][index]\n",
    "        if diff <= 3600000:\n",
    "            toAdd = diff\n",
    "        else:\n",
    "            thr = 1\n",
    "            \n",
    "    if afterStill == 1:\n",
    "        diff = de_date['senseStartTimeMillis'][index+1] - de_date['senseStartTimeMillis'][index]\n",
    "        toAdd = diff\n",
    "        \n",
    "    if last == len(de_date['Activity']) - 1:\n",
    "        time = de_date['Final Date'][index] \n",
    "        time = time[2:-1]\n",
    "        time = time.replace(\"-\", \"/\")\n",
    "        # make param\n",
    "        time += \" 12:00:00\"\n",
    "        convert = time.mktime(datetime.datetime.strptime(time,\n",
    "                                             '%Y/%m/%d %H:%M:%S').timetuple())\n",
    "        diff = convert - de_date['senseStartTimeMillis'][index]\n",
    "        diff = datetime.strptime(\"12:00:00\", \"%H:%M:%S\").time()\n",
    "        if diff <= 3600000:\n",
    "            toAdd = diff\n",
    "        else:\n",
    "            thr = 1\n",
    "        \n",
    "    return toAdd, thr, previousStill, afterStill"
   ]
  },
  {
   "cell_type": "code",
   "execution_count": 19,
   "id": "23577bad",
   "metadata": {},
   "outputs": [],
   "source": [
    "# print(len(df[\"Activity\"]))"
   ]
  },
  {
   "cell_type": "code",
   "execution_count": 29,
   "id": "f42e24f7",
   "metadata": {
    "scrolled": false
   },
   "outputs": [
    {
     "name": "stdout",
     "output_type": "stream",
     "text": [
      "9771428.57142857\n",
      "43426837.5\n",
      "2057142.857142857\n",
      "45249663.8\n",
      "31196710.85714286\n",
      "27361964.285714287\n",
      "14783498.0\n",
      "36364158.14285714\n",
      "21886055.666666668\n",
      "3713337.8571428573\n",
      "40137512.5\n",
      "56847228.4\n",
      "23057785.0\n"
     ]
    }
   ],
   "source": [
    "for id in ids:\n",
    "    # get survey dates for the current id\n",
    "    surveydates = df.loc[df[\"Userid\"]==id, 'Survey Date'].tolist()\n",
    "    uniquesurveydates = np.array(surveydates)\n",
    "    uniquesurveydates = np.unique(uniquesurveydates)\n",
    "    surveydates = uniquesurveydates.tolist()\n",
    "\n",
    "    # get a dataframe of the data corresponding to current id\n",
    "    de_id = df.loc[(df[\"Userid\"])==int(id)]\n",
    "\n",
    "\n",
    "    # total time of being still for a survey date\n",
    "    totalWeekdayMorningStill = 0\n",
    "    toAdd = 0\n",
    "    # calculate features for each survey date \n",
    "    for date in surveydates:\n",
    "        # retrive dataframe that contains information for current survey date\n",
    "        de_date = 0\n",
    "        de_date = df.loc[(df[\"Userid\"]==id) & (df[\"Survey Date\"]==date)]\n",
    "        # unique dates\n",
    "        uniq = df.loc[(df[\"Userid\"]==id) & (df[\"Survey Date\"]==date), 'Final Date'].tolist()\n",
    "        uniq = np.array(uniq)\n",
    "        uniq = np.unique(uniq)\n",
    "        uniq = uniq.tolist()\n",
    "        \n",
    "        \n",
    "        first = 0\n",
    "        last = 0\n",
    "        \n",
    "        # iterate through dataframe and calculate features        \n",
    "        for index in de_date.index:\n",
    "            # determine weekend or weekday\n",
    "            weekday, dayOfTheWeek = determineWeekday(de_date[\"senseStartTime\"][index])\n",
    "            \n",
    "            # determine part of the day \n",
    "            partOfDay = identifyTime(de_date[\"Time\"][index],weekday)\n",
    "            \n",
    "            if de_date[\"Activity\"][index] == \" 'Still'\":\n",
    "                if (partOfDay == \"morning\" and weekday == 1):\n",
    "                    timeStill, thr, previousStill, afterStill = CalculateStill(de_date, index, 1, first, last)\n",
    "\n",
    "                    if previousStill == 0:\n",
    "                        totalWeekdayMorningStill += toAdd\n",
    "                        toAdd  = 0\n",
    "                    if thr == 0:\n",
    "                        toAdd += timeStill\n",
    "                    else:\n",
    "                        if toAdd < 3600000:\n",
    "                            toAdd = 3600000\n",
    "                        # if the time in between activities > 3600 and total time to add is already > 3600 (add 10 more minutes)\n",
    "                        else:\n",
    "                            toAdd += 600000 \n",
    "                    if index == len(de_date[\"Activity\"]) - 1:\n",
    "                        totalWeekdayMorningStill += toAdd\n",
    "            \n",
    "            first = 1\n",
    "            last += 1\n",
    "#     print(len(uniq))\n",
    "    avgWeekdayMorningStill = totalWeekdayMorningStill / len(uniq)\n",
    "    print(avgWeekdayMorningStill)\n",
    "            \n"
   ]
  },
  {
   "cell_type": "code",
   "execution_count": null,
   "id": "cc190001",
   "metadata": {},
   "outputs": [],
   "source": [
    "t = df.loc[(df[\"Userid\"]==158455) & (df[\"Survey Date\"]=='\"2022-11-01\"')]\n",
    "\n",
    "t"
   ]
  },
  {
   "cell_type": "code",
   "execution_count": null,
   "id": "a4b59380",
   "metadata": {},
   "outputs": [],
   "source": []
  }
 ],
 "metadata": {
  "kernelspec": {
   "display_name": "Python 3 (ipykernel)",
   "language": "python",
   "name": "python3"
  },
  "language_info": {
   "codemirror_mode": {
    "name": "ipython",
    "version": 3
   },
   "file_extension": ".py",
   "mimetype": "text/x-python",
   "name": "python",
   "nbconvert_exporter": "python",
   "pygments_lexer": "ipython3",
   "version": "3.8.5"
  }
 },
 "nbformat": 4,
 "nbformat_minor": 5
}
