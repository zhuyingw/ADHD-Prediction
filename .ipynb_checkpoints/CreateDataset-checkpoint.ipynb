{
 "cells": [
  {
   "cell_type": "code",
   "execution_count": 1,
   "metadata": {},
   "outputs": [],
   "source": [
    "import csv\n",
    "import time\n",
    "import numpy as np\n",
    "import pandas as pd\n",
    "import datetime as dt\n",
    "from datetime import date\n",
    "from datetime import datetime\n",
    "from datetime import timedelta\n",
    "import matplotlib.pyplot as plt"
   ]
  },
  {
   "cell_type": "code",
   "execution_count": 2,
   "metadata": {},
   "outputs": [],
   "source": [
    "df = pd.read_csv(\"weekly_data_for_visualization.csv\")\n",
    "ids = df[\"Q317\"].unique()\n",
    "ids=ids[:-2] #only keeping the numbers of ids"
   ]
  },
  {
   "cell_type": "code",
   "execution_count": 3,
   "metadata": {},
   "outputs": [],
   "source": [
    "# create a list of dates from mili sec\n",
    "def changeDateType(dates):\n",
    "    date_final = [i.split(\" \")[0] for i in dates]\n",
    "    converted_dates = []\n",
    "    for i in range(0,len(date_final)):  \n",
    "        date_object = datetime.strptime(date_final[i], '%m/%d/%Y')\n",
    "        converted_dates.append(date_object)\n",
    "    return converted_dates"
   ]
  },
  {
   "cell_type": "code",
   "execution_count": 4,
   "metadata": {},
   "outputs": [
    {
     "name": "stdout",
     "output_type": "stream",
     "text": [
      "id--------- 117639\n"
     ]
    },
    {
     "ename": "NameError",
     "evalue": "name 'addBaseLine' is not defined",
     "output_type": "error",
     "traceback": [
      "\u001b[0;31m---------------------------------------------------------------------------\u001b[0m",
      "\u001b[0;31mNameError\u001b[0m                                 Traceback (most recent call last)",
      "Input \u001b[0;32mIn [4]\u001b[0m, in \u001b[0;36m<cell line: 1>\u001b[0;34m()\u001b[0m\n\u001b[1;32m      5\u001b[0m \u001b[38;5;66;03m# add the survey dates of a user id to a list\u001b[39;00m\n\u001b[1;32m      6\u001b[0m surveyKeep \u001b[38;5;241m=\u001b[39m changeDateType(surveydates)\n\u001b[0;32m----> 8\u001b[0m \u001b[43maddBaseLine\u001b[49m(\u001b[38;5;28mid\u001b[39m,surveyKeep)\n\u001b[1;32m     10\u001b[0m \u001b[38;5;66;03m# create a list of surveys that we keep for each user \u001b[39;00m\n\u001b[1;32m     12\u001b[0m i \u001b[38;5;241m=\u001b[39m \u001b[38;5;241m1\u001b[39m\n",
      "\u001b[0;31mNameError\u001b[0m: name 'addBaseLine' is not defined"
     ]
    }
   ],
   "source": [
    "for id in ids:\n",
    "    # dates\n",
    "    print(\"id---------\", id)\n",
    "    surveydates = df.loc[df[\"Q317\"]==id, 'StartDate'] \n",
    "    # add the survey dates of a user id to a list\n",
    "    surveyKeep = changeDateType(surveydates)\n",
    "\n",
    "    addBaseLine(id,surveyKeep)\n",
    "    \n",
    "    # create a list of surveys that we keep for each user \n",
    "    \n",
    "    i = 1\n",
    "    # discard current survey if the time interval between previous and current survey is not 7 \n",
    "    while i < len(surveyKeep):\n",
    "\n",
    "        numDays = surveyKeep[i] - surveyKeep[i-1]\n",
    "        strDays = str(numDays)\n",
    "\n",
    "        difference = strDays.split(\" \")[0]\n",
    "        difference = int(difference)\n",
    "\n",
    "        if difference < 7:\n",
    "            surveyKeep.pop(i) \n",
    "\n",
    "        else: \n",
    "            i = i + 1 "
   ]
  },
  {
   "cell_type": "code",
   "execution_count": null,
   "metadata": {},
   "outputs": [],
   "source": []
  },
  {
   "cell_type": "code",
   "execution_count": null,
   "metadata": {},
   "outputs": [],
   "source": []
  }
 ],
 "metadata": {
  "kernelspec": {
   "display_name": "Python 3 (ipykernel)",
   "language": "python",
   "name": "python3"
  },
  "language_info": {
   "codemirror_mode": {
    "name": "ipython",
    "version": 3
   },
   "file_extension": ".py",
   "mimetype": "text/x-python",
   "name": "python",
   "nbconvert_exporter": "python",
   "pygments_lexer": "ipython3",
   "version": "3.8.5"
  }
 },
 "nbformat": 4,
 "nbformat_minor": 2
}
