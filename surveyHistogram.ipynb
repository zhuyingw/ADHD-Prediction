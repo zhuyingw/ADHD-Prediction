{
 "cells": [
  {
   "cell_type": "code",
   "execution_count": 53,
   "metadata": {},
   "outputs": [],
   "source": [
    "import csv\n",
    "import time\n",
    "import numpy as np\n",
    "import pandas as pd\n",
    "import datetime as dt\n",
    "from datetime import date\n",
    "from datetime import datetime\n",
    "from datetime import timedelta\n",
    "import matplotlib.pyplot as plt"
   ]
  },
  {
   "cell_type": "code",
   "execution_count": 89,
   "metadata": {},
   "outputs": [
    {
     "name": "stdout",
     "output_type": "stream",
     "text": [
      "['Start', '{\"ImportId\":\"startDate\",\"timeZone\":\"America/New_York\"}', '4/15/2022', '4/17/2022', '4/21/2022', '4/22/2022', '4/22/2022', '4/22/2022', '4/24/2022', '4/28/2022', '4/29/2022', '4/29/2022', '5/1/2022', '5/5/2022', '5/6/2022', '5/6/2022', '5/8/2022', '5/12/2022', '5/13/2022', '5/6/2022', '5/15/2022', '5/19/2022', '5/20/2022', '5/20/2022', '5/20/2022', '5/22/2022', '5/26/2022', '5/27/2022', '5/28/2022', '5/29/2022', '6/2/2022', '6/3/2022', '6/3/2022', '6/5/2022', '6/9/2022', '6/10/2022', '6/10/2022', '6/12/2022', '6/17/2022', '6/19/2022', '6/23/2022', '6/24/2022', '10/26/2022', '10/31/2022', '11/1/2022', '11/1/2022', '11/2/2022', '11/3/2022', '11/7/2022', '11/8/2022', '11/10/2022', '11/11/2022', '11/14/2022', '11/15/2022', '11/16/2022', '11/17/2022', '11/21/2022', '11/22/2022', '11/22/2022', '11/23/2022', '11/24/2022', '11/27/2022', '11/28/2022', '11/29/2022', '11/29/2022', '11/30/2022', '12/1/2022', '12/1/2022', '12/5/2022', '12/6/2022', '12/6/2022', '12/7/2022', '12/8/2022', '12/8/2022', '12/9/2022', '12/13/2022', '12/13/2022', '12/14/2022', '12/14/2022', '12/15/2022', '12/15/2022', '12/19/2022', '12/20/2022', '12/21/2022', '12/21/2022', '12/21/2022', '12/21/2022', '12/22/2022', '12/22/2022', '12/26/2022', '12/27/2022', '12/28/2022', '12/28/2022', '12/28/2022', '12/30/2022', '12/31/2022', '1/3/2023', '1/4/2023', '1/4/2023', '1/6/2023', '1/7/2023', '1/10/2023', '1/11/2023', '1/12/2023', '1/17/2023', '1/18/2023', '1/20/2023', '1/24/2023', '1/25/2023', '1/26/2023', '2/1/2023', '2/8/2023', '2/20/2023', '2/21/2023', '2/27/2023', '2/28/2023', '2/28/2023', '2/28/2023', '3/1/2023', '3/1/2023', '2/23/2023', '3/3/2023', '3/6/2023', '3/6/2023', '3/7/2023', '3/7/2023', '3/7/2023', '3/7/2023', '3/8/2023', '3/8/2023', '3/9/2023', '3/9/2023', '3/9/2023', '3/9/2023', '3/11/2023', '3/13/2023', '3/13/2023', '3/13/2023', '3/14/2023', '3/14/2023', '3/14/2023', '3/14/2023', '3/15/2023', '3/15/2023', '3/15/2023', '3/15/2023']\n",
      "['953571' '313449' '547832' '773684' '446875' '873115' '931499' '738648'\n",
      " '158455' '351278' '483491' '494149' '453897' '144932' '312317' '325268'\n",
      " '441255' '575389' '483975' '294592' '186277' '752457' '481113' '855371'\n",
      " '117639' '865112' '495579' '918349']\n",
      "{2: 1, 3: 2, 4: 3, 5: 1, 6: 11, 7: 78, 8: 8, 9: 1, 10: 3, 14: 7, 48: 1}\n"
     ]
    }
   ],
   "source": [
    "extractQuestionAndDate()\n",
    "df = pd.read_csv(\"weekly_data_for_visualization.csv\")\n",
    "#de = pd.read_csv(\"Qids_Score.csv\")\n",
    "df\n",
    "\n",
    "#convert date to YYYY-MM-DD format\n",
    "dates_milli = df[\"StartDate\"].tolist()\n",
    "date_mili_strip = [i.replace(\"-\", \"/\") for i in dates_milli]\n",
    "date_final = [i.split(\" \")[0] for i in date_mili_strip]\n",
    "\n",
    "date_final\n",
    "\n",
    "converted_dates = []\n",
    "\n",
    "print(date_final)\n",
    "\n",
    "for i in range(0,len(date_final)):  # create a list fo dates from mili sec\n",
    "    # s = int(i) / 1000.0\n",
    "    # s = pd.Series(i)\n",
    "    # s.head()\n",
    "    if i < 2:\n",
    "        converted_dates.append(date_final[i])\n",
    "    else: \n",
    "        date_object = datetime.strptime(date_final[i], '%m/%d/%Y')\n",
    "        converted_dates.append(date_object)\n",
    " \n",
    "df[\"Final Date\"] = converted_dates  # new conlumn of dates only, new table with \"Final Date\" Created\n",
    "\n",
    "ids = df[\"Q317\"].unique() #change to “Userid\"\n",
    "\n",
    "\n",
    "df = df.sort_values(by=['Q317','Final Date'],ascending=[True,True])\n",
    "\n",
    "df.to_csv(\"weekly_data_for_visualization.csv\") #new updated_weekly data with \"Final Date\" at the end of it\n",
    "\n",
    "ids=ids[2:] #only keeping the numbers of ids\n",
    "\n",
    "print(ids)\n",
    "\n",
    "dayDict={}\n",
    "\n",
    "for id in ids:\n",
    "    #calculate the difference between the two adjacent datetimes\n",
    "\n",
    "    dates = df.loc[df[\"Q317\"]==id, 'Final Date']        \n",
    "    #increment the corresponding difference #days by 1\n",
    "        #adding to a list to verify (tmp)\n",
    "\n",
    "    tmp =[]\n",
    "\n",
    "    for date in dates:\n",
    "        tmp.append(date)\n",
    "\n",
    "    for i in range(1,len(tmp)):\n",
    "        numDays = tmp[i] - tmp[i-1]\n",
    "        index = str(numDays)\n",
    "        key = index.split(\" \")[0]\n",
    "        key = int(key)\n",
    "        if key not in dayDict:\n",
    "            dayDict[key] = 1\n",
    "        else:\n",
    "            dayDict[key] += 1\n",
    "        \n",
    "# print(tmp)\n",
    "myKeys = list(dayDict.keys())\n",
    "myKeys.sort()\n",
    "dayDict = {i: dayDict[i] for i in myKeys}\n",
    "print(dayDict)\n",
    "\n",
    "    # for i in range(len(dates)):\n",
    "    #     df[]\n",
    "    # for date in dates.iterrows():\n",
    "    #     print(date)\n",
    "        #if the label not already exist, create the label (n days) add 1\n",
    "\n",
    "\n",
    "\n",
    "        #if the label (n days) exist, add it by 1 \n"
   ]
  },
  {
   "cell_type": "code",
   "execution_count": null,
   "metadata": {},
   "outputs": [],
   "source": []
  },
  {
   "cell_type": "code",
   "execution_count": 94,
   "metadata": {},
   "outputs": [
    {
     "data": {
      "image/png": "[encoded data removed]",
      "text/plain": [
       "<Figure size 640x480 with 1 Axes>"
      ]
     },
     "metadata": {},
     "output_type": "display_data"
    }
   ],
   "source": [
    "#plot the histogram\n",
    "interval_int = list(dayDict.keys())\n",
    "interval = []\n",
    "for i in interval_int:\n",
    "    interval.append(str(i))\n",
    "num = list(dayDict.values())\n",
    "\n",
    "plt.bar(interval, num)\n",
    "plt.title(\"Interval between weekly surveys\")\n",
    "plt.xlabel(\"Intervals (days)\")\n",
    "plt.ylabel(\"Frequency\")\n",
    "plt.show()"
   ]
  }
 ],
 "metadata": {
  "kernelspec": {
   "display_name": "base",
   "language": "python",
   "name": "python3"
  },
  "language_info": {
   "codemirror_mode": {
    "name": "ipython",
    "version": 3
   },
   "file_extension": ".py",
   "mimetype": "text/x-python",
   "name": "python",
   "nbconvert_exporter": "python",
   "pygments_lexer": "ipython3",
   "version": "3.9.13"
  },
  "orig_nbformat": 4
 },
 "nbformat": 4,
 "nbformat_minor": 2
}
