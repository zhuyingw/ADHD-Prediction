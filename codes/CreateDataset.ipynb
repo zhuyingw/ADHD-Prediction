{
 "cells": [
  {
   "cell_type": "code",
   "execution_count": 1,
   "metadata": {},
   "outputs": [],
   "source": [
    "import csv\n",
    "import time\n",
    "import numpy as np\n",
    "import pandas as pd\n",
    "import datetime as dt\n",
    "from datetime import date\n",
    "from datetime import datetime\n",
    "from datetime import timedelta\n",
    "import matplotlib.pyplot as plt"
   ]
  },
  {
   "cell_type": "code",
   "execution_count": 2,
   "metadata": {},
   "outputs": [
    {
     "data": {
      "text/plain": [
       "96"
      ]
     },
     "execution_count": 2,
     "metadata": {},
     "output_type": "execute_result"
    }
   ],
   "source": [
    "file = open(\"Activity_clean.csv\", \"w\", encoding=\"utf8\")\n",
    "f = csv.writer(file)\n",
    "f.writerow([\"Userid\", \"senseStartTimeMillis\", \"senseStartTime\", \"Activity\", \"Survey Date\", \"Final Date\", \"Time\", \"ADHD\", \"ADHDScore\"])"
   ]
  },
  {
   "cell_type": "code",
   "execution_count": 3,
   "metadata": {},
   "outputs": [],
   "source": [
    "df = pd.read_csv(\"weekly_data_for_visualization.csv\")\n",
    "ids = df[\"Q317\"].unique()\n",
    "ids=ids[:-2] #only keeping the numbers of ids"
   ]
  },
  {
   "cell_type": "code",
   "execution_count": 4,
   "metadata": {},
   "outputs": [
    {
     "data": {
      "text/plain": [
       "array(['117639', '144932', '158455', '186277', '294592', '312317',\n",
       "       '313449', '325268', '351278', '441255', '446875', '453897',\n",
       "       '481113', '483491', '483975', '494149', '495579', '547832',\n",
       "       '575389', '738648', '752457', '773684', '855371', '865112',\n",
       "       '873115', '918349', '931499', '953571'], dtype=object)"
      ]
     },
     "execution_count": 4,
     "metadata": {},
     "output_type": "execute_result"
    }
   ],
   "source": [
    "ids"
   ]
  },
  {
   "cell_type": "code",
   "execution_count": 5,
   "metadata": {},
   "outputs": [],
   "source": [
    "# dictionary of ADHD labels for each user id\n",
    "ADHD_dict = {}\n",
    "baseline = pd.read_csv(\"sassema baseline 3.16.2023.csv\")\n",
    "baseline['ID'] = baseline['ID'].fillna(0)\n",
    "\n",
    "for index in baseline.index:\n",
    "    if index > 1:\n",
    "        if baseline[\"ID\"][index] != 0:\n",
    "            if baseline[\"ID\"][index] == \"773\":\n",
    "                baseline[\"ID\"][index] = \"773684\"\n",
    "            if baseline[\"ADHDSx_Dx\"][index] == \"No\":\n",
    "                ADHD_dict[int(baseline[\"ID\"][index])] = 0\n",
    "            elif baseline[\"ADHDSx_Dx\"][index] == \"Yes\":\n",
    "                ADHD_dict[int(baseline[\"ID\"][index])] = 1"
   ]
  },
  {
   "cell_type": "code",
   "execution_count": 6,
   "metadata": {},
   "outputs": [],
   "source": [
    "# create a list of dates from mili sec\n",
    "def changeDateType(dates):\n",
    "    date_final = [i.split(\" \")[0] for i in dates]\n",
    "    converted_dates = []\n",
    "    for i in range(0,len(date_final)):  \n",
    "        date_object = datetime.strptime(date_final[i], '%m/%d/%Y')\n",
    "        converted_dates.append(date_object)\n",
    "    return converted_dates"
   ]
  },
  {
   "cell_type": "code",
   "execution_count": 7,
   "metadata": {},
   "outputs": [],
   "source": [
    "def changeYYMMDD(date):\n",
    "    index = date.index(\"-\")\n",
    "    date = date[index-4:index+6]\n",
    "    date = date.replace(\"-\",\"/\")\n",
    "    date_object = datetime.strptime(date, '%Y/%m/%d')\n",
    "\n",
    "    return date_object"
   ]
  },
  {
   "cell_type": "code",
   "execution_count": 8,
   "metadata": {},
   "outputs": [],
   "source": [
    "def addBaseLine(idf,surveyKeep):\n",
    "    dataf = pd.read_csv(\"sassema baseline 3.16.2023.csv\")\n",
    "\n",
    "    if idf == \"773684\":\n",
    "        idf = \"773\"\n",
    "    \n",
    "    baselineDate = str(dataf.loc[dataf[\"ID\"]==idf, 'StartDate'])\n",
    "\n",
    "    date_object = changeYYMMDD(baselineDate)\n",
    "\n",
    "    surveyKeep.insert(0,date_object)"
   ]
  },
  {
   "cell_type": "code",
   "execution_count": 9,
   "metadata": {},
   "outputs": [],
   "source": [
    "def addFinalDate():\n",
    "    de = pd.read_csv(\"Activity_joined.csv\")\n",
    "    dates_milli = de[\" senseStartTime\"].tolist()\n",
    "    date_mili_strip = [i.replace(\"'\", \"\") for i in dates_milli]\n",
    "    date_final = [i.split(\"T\")[0] for i in date_mili_strip]\n",
    "\n",
    "    converted_dates = []\n",
    "\n",
    "    for i in date_final:  # create a list fo dates from mili sec\n",
    "        converted_dates.append(i)\n",
    "\n",
    "    de[\"Final Date\"] = converted_dates  # new conlumn of dates only\n",
    "    de.to_csv(\"Activity_joined.csv\", index=False)"
   ]
  },
  {
   "cell_type": "code",
   "execution_count": 10,
   "metadata": {},
   "outputs": [],
   "source": [
    "def convertTextToScore(string):\n",
    "    if string == 'Never or rarely':\n",
    "        return 1\n",
    "    if string == 'Sometimes':\n",
    "        return 2\n",
    "    if string == 'Often':\n",
    "        return 3\n",
    "    if string == 'Very often':\n",
    "        return 4"
   ]
  },
  {
   "cell_type": "code",
   "execution_count": 11,
   "metadata": {},
   "outputs": [],
   "source": [
    "def calcScore(surveyDate, id):\n",
    "    df = pd.read_csv(\"weekly_data_for_visualization.csv\")\n",
    "    df_date = df.loc[(df[\"Q317\"]==str(id)) & (df[\"String Final Date\"]==(\"'\"+surveyDate+\"'\"))]\n",
    "#     ind = df_date[df_date['ADHDSx_1']].index\n",
    "#     print(ind)\n",
    "    score = 0\n",
    "    for index in df_date.index:\n",
    "        for i in range(1,19):\n",
    "            label = 'ADHDSx_'+str(i)\n",
    "            score += convertTextToScore(df_date[label][index])\n",
    "#             print(index)\n",
    "    return score"
   ]
  },
  {
   "cell_type": "code",
   "execution_count": 12,
   "metadata": {},
   "outputs": [
    {
     "data": {
      "text/plain": [
       "31"
      ]
     },
     "execution_count": 12,
     "metadata": {},
     "output_type": "execute_result"
    }
   ],
   "source": [
    "calcScore(\"2023-02-20\",144932)"
   ]
  },
  {
   "cell_type": "code",
   "execution_count": 13,
   "metadata": {
    "scrolled": true
   },
   "outputs": [
    {
     "name": "stdout",
     "output_type": "stream",
     "text": [
      "117639 {'2023-03-09': 28}\n",
      "144932 {'2023-02-20': 31, '2023-02-27': 28, '2023-03-06': 31, '2023-03-13': 32}\n",
      "158455 {'2022-11-01': 46, '2022-11-11': 46, '2022-11-27': 36, '2022-12-09': 46, '2022-12-22': 35}\n",
      "186277 {'2023-03-03': 27, '2023-03-11': 29}\n",
      "294592 {'2023-02-23': 40}\n",
      "312317 {'2023-02-21': 41, '2023-02-28': 43, '2023-03-07': 42, '2023-03-14': 47}\n",
      "313449 {'2022-04-17': 36, '2022-04-24': 39, '2022-05-01': 37, '2022-05-08': 28, '2022-05-15': 31, '2022-05-22': 33, '2022-05-29': 33, '2022-06-05': 36, '2022-06-12': 31, '2022-06-19': 31}\n",
      "325268 {'2023-02-28': 25, '2023-03-07': 26, '2023-03-14': 33}\n",
      "351278 {'2022-11-03': 43, '2022-12-21': 38, '2023-01-04': 37}\n",
      "441255 {'2023-02-28': 44, '2023-03-07': 47, '2023-03-14': 48}\n",
      "446875 {'2022-04-22': 20, '2022-04-29': 21, '2022-05-06': 21, '2022-05-13': 18, '2022-05-20': 18, '2022-05-27': 18, '2022-06-03': 18, '2022-06-10': 18, '2022-06-24': 18}\n",
      "453897 {'2022-12-07': 38, '2022-12-14': 32, '2022-12-21': 39, '2022-12-28': 32, '2023-01-04': 43, '2023-01-11': 32, '2023-01-18': 33, '2023-01-25': 36, '2023-02-01': 39, '2023-02-08': 33}\n",
      "481113 {'2023-03-08': 45, '2023-03-15': 48}\n",
      "483491 {'2022-11-22': 57, '2022-11-29': 57, '2022-12-06': 55, '2022-12-13': 52, '2022-12-21': 60, '2023-01-03': 42, '2023-01-10': 56, '2023-01-17': 52, '2023-01-24': 49}\n",
      "483975 {'2023-03-06': 18, '2023-03-13': 18}\n",
      "494149 {'2022-11-24': 42, '2022-12-01': 44, '2022-12-08': 40, '2022-12-15': 46, '2022-12-22': 42, '2022-12-31': 39, '2023-01-12': 44, '2023-01-20': 48}\n",
      "495579 {'2023-03-13': 43}\n",
      "547832 {'2022-04-21': 30, '2022-04-28': 25, '2022-05-05': 28, '2022-05-12': 24, '2022-05-19': 24, '2022-05-26': 27, '2022-06-02': 29, '2022-06-09': 32, '2022-06-23': 34}\n",
      "575389 {'2023-03-01': 47, '2023-03-08': 34, '2023-03-15': 34}\n",
      "738648 {'2022-11-01': 45, '2022-11-08': 45, '2022-11-15': 42, '2022-11-22': 43, '2022-11-29': 37, '2022-12-06': 48, '2022-12-20': 39, '2022-12-30': 40}\n",
      "752457 {'2023-03-07': 18, '2023-03-14': 18}\n",
      "773684 {'2022-04-22': 43, '2022-05-06': 40, '2022-05-20': 33}\n",
      "855371 {'2023-03-09': 18}\n",
      "865112 {'2023-03-09': 22}\n",
      "873115 {'2022-10-26': 30, '2022-11-02': 30, '2022-11-10': 32, '2022-11-23': 32, '2022-11-30': 22, '2022-12-08': 23, '2022-12-21': 22, '2022-12-28': 19}\n",
      "918349 {'2023-03-15': 59}\n",
      "931499 {'2022-10-31': 28, '2022-11-07': 30, '2022-11-14': 31, '2022-11-21': 29, '2022-11-28': 27, '2022-12-05': 35, '2022-12-13': 29, '2022-12-26': 23}\n",
      "953571 {'2022-04-15': 59, '2022-04-22': 59, '2022-04-29': 59, '2022-05-06': 52, '2022-05-20': 57, '2022-05-28': 52, '2022-06-10': 66, '2022-06-17': 59}\n"
     ]
    }
   ],
   "source": [
    "Userid = [] \n",
    "senseStartTimeMillis = [] \n",
    "senseStartTime = [] \n",
    "Activiy = [] \n",
    "SurveyDate = []\n",
    "FinalDate = []\n",
    "ADHD = []\n",
    "ADHDScore = []\n",
    "threshold = 4\n",
    "addFinalDate()\n",
    "de = pd.read_csv(\"Activity_joined.csv\")\n",
    "for id in ids:\n",
    "    # dates\n",
    "    surveydates = df.loc[df[\"Q317\"]==id, 'StartDate'] \n",
    "    # add the survey dates of a user id to a list\n",
    "    surveyKeep = changeDateType(surveydates)\n",
    "    addBaseLine(id,surveyKeep)\n",
    "    \n",
    "    # DECIDE WHAT SURVEY DATES ARE KEPT \n",
    "    i = 1\n",
    "    # discard current survey if the time interval between previous and current survey is not 7 \n",
    "    while i < len(surveyKeep):\n",
    "\n",
    "        numDays = surveyKeep[i] - surveyKeep[i-1]\n",
    "        strDays = str(numDays)\n",
    "\n",
    "        difference = strDays.split(\" \")[0]\n",
    "        difference = int(difference)\n",
    "\n",
    "        if difference < 7:\n",
    "            surveyKeep.pop(i) \n",
    "\n",
    "        else: \n",
    "            i = i + 1 \n",
    "    \n",
    "    # create a dictionary of the scores coresponding to each survey date for the curent id\n",
    "    scr = {}\n",
    "    \n",
    "    for k in range(1,len(surveyKeep)):\n",
    "        # change data object to string\n",
    "        stringSurvey = str(surveyKeep[k])\n",
    "        stringSurvey = stringSurvey.split(\" \")[0]\n",
    "        scr[stringSurvey] = calcScore(stringSurvey,id)\n",
    "#     print(id,scr)\n",
    "    # DECIDE WHAT SENING DATES ARE KEPT BASED ON TRESHOLD \n",
    "    #create a list of sensing data\n",
    "\n",
    "    sensingDates = de.loc[(de[\"Userid\"])==int(id), 'Final Date'] \n",
    "    sensingKeep = []\n",
    "\n",
    "    if len(sensingDates) != 0:\n",
    "        for d in sensingDates:\n",
    "            date_object = changeYYMMDD(d)\n",
    "            if date_object not in sensingKeep:\n",
    "                sensingKeep.append(date_object)\n",
    "    count = 0\n",
    "    for i in range(1,len(surveyKeep)):\n",
    "        if (len(sensingKeep) != 0):\n",
    "            count = 0\n",
    "\n",
    "            for j in range(0,len(sensingKeep)):\n",
    "                if surveyKeep[i] == sensingKeep[j]:\n",
    "                    numDiff = 0\n",
    "                else: \n",
    "                    numDiff = surveyKeep[i] - sensingKeep[j]\n",
    "                    numDiff = str(numDiff)\n",
    "                    numDiff = numDiff.split(\" \")[0]\n",
    "                    numDiff = int(numDiff)\n",
    "                if (numDiff < 7) and (numDiff >= 0):\n",
    "                    count += 1\n",
    "                    \n",
    "        id_df = de.loc[(de[\"Userid\"])==int(id)]  \n",
    "        id_df.to_csv(\"temp.csv\", index=False)\n",
    "        id_de = pd.read_csv(\"temp.csv\")\n",
    "        \n",
    "#         print(surveyKeep[i])\n",
    "        stringSurvey = str(surveyKeep[i])\n",
    "        stringSurvey = stringSurvey.split(\" \")[0]\n",
    "#         print(stringSurvey)\n",
    "        \n",
    "        if (count >= threshold):\n",
    "            # iterate through the final date column when Userid=id\n",
    "            for k in range(len(id_de[\"Final Date\"])):\n",
    "#                 print(k)\n",
    "                date = id_de.loc[id_de.index[k], 'Final Date']\n",
    "                dateObject = changeYYMMDD(date)\n",
    "#                 print(id, date)\n",
    "                if surveyKeep[i] == dateObject:\n",
    "                    numDiff = 0\n",
    "                else:\n",
    "                    numDiff = surveyKeep[i] - dateObject\n",
    "                    numDiff = str(numDiff)\n",
    "                    numDiff = numDiff.split(\" \")[0]\n",
    "                    numDiff = int(numDiff)\n",
    "                \n",
    "                # if final date is within 7 day interval from survey date\n",
    "                if (numDiff < 7) and (numDiff >= 0):\n",
    "                    # append to all lists\n",
    "                    Userid.append(id_de.loc[k, 'Userid']) \n",
    "                    senseStartTimeMillis.append(id_de.loc[k, ' senseStartTimeMillis'])  \n",
    "                    senseStartTime.append(id_de.loc[k, ' senseStartTime'])\n",
    "                    Activiy.append(id_de.loc[k, ' Activity'])\n",
    "                    SurveyDate.append(stringSurvey)\n",
    "#                     print(stringSurvey)\n",
    "                    FinalDate.append(id_de.loc[k, 'Final Date'])\n",
    "                    ADHD.append(ADHD_dict[id_de.loc[k, 'Userid']])\n",
    "                    ADHDScore.append(scr[stringSurvey])\n",
    "#                     print(id, stringSurvey,scr[stringSurvey])\n",
    "\n",
    "        "
   ]
  },
  {
   "cell_type": "code",
   "execution_count": null,
   "metadata": {},
   "outputs": [],
   "source": []
  },
  {
   "cell_type": "code",
   "execution_count": 14,
   "metadata": {},
   "outputs": [],
   "source": [
    "for l in range(len(Userid)):\n",
    "    FinalDate[l] = FinalDate[l][1:]\n",
    "    index = senseStartTime[l].index(\"T\")\n",
    "    time = senseStartTime[l][(index+1):]\n",
    "    f.writerow([Userid[l], senseStartTimeMillis[l], senseStartTime[l], Activiy[l], '\"' + SurveyDate[l] + '\"','\"' + FinalDate[l] + '\"','\"' + time + '\"',ADHD[l], ADHDScore[l]])\n",
    "\n",
    "file.close()"
   ]
  },
  {
   "cell_type": "code",
   "execution_count": 15,
   "metadata": {},
   "outputs": [],
   "source": [
    "# sort the values in the csv file by Userid and time of activity \n",
    "df = pd.read_csv(\"Activity_clean.csv\")\n",
    "\n",
    "df = df.sort_values(by=['Userid','senseStartTimeMillis'],ascending=[True,True])\n",
    "df.to_csv('Activity_clean.csv',index=False)"
   ]
  }
 ],
 "metadata": {
  "kernelspec": {
   "display_name": "Python 3 (ipykernel)",
   "language": "python",
   "name": "python3"
  },
  "language_info": {
   "codemirror_mode": {
    "name": "ipython",
    "version": 3
   },
   "file_extension": ".py",
   "mimetype": "text/x-python",
   "name": "python",
   "nbconvert_exporter": "python",
   "pygments_lexer": "ipython3",
   "version": "3.8.5"
  }
 },
 "nbformat": 4,
 "nbformat_minor": 2
}
