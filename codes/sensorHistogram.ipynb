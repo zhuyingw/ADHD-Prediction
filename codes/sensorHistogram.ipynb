{
 "cells": [
  {
   "cell_type": "code",
   "execution_count": 2,
   "id": "95ea70e6",
   "metadata": {},
   "outputs": [],
   "source": [
    "import csv\n",
    "import time\n",
    "import numpy as np\n",
    "import pandas as pd\n",
    "import datetime as dt\n",
    "from datetime import date\n",
    "from datetime import datetime\n",
    "from datetime import timedelta\n",
    "import matplotlib.pyplot as plt"
   ]
  },
  {
   "cell_type": "code",
   "execution_count": 3,
   "id": "aad43309",
   "metadata": {},
   "outputs": [
    {
     "data": {
      "text/plain": [
       "array(['117639', '144932', '158455', '186277', '294592', '312317',\n",
       "       '313449', '325268', '351278', '441255', '446875', '453897',\n",
       "       '481113', '483491', '483975', '494149', '495579', '547832',\n",
       "       '575389', '738648', '752457', '773684', '855371', '865112',\n",
       "       '873115', '918349', '931499', '953571'], dtype=object)"
      ]
     },
     "execution_count": 3,
     "metadata": {},
     "output_type": "execute_result"
    }
   ],
   "source": [
    "df = pd.read_csv(\"weekly_data_for_visualization.csv\")\n",
    "ids = df[\"Q317\"].unique()\n",
    "ids=ids[:-2] #only keeping the numbers of ids\n",
    "ids"
   ]
  },
  {
   "cell_type": "code",
   "execution_count": 4,
   "id": "8860a35f",
   "metadata": {},
   "outputs": [],
   "source": [
    "# create a list of dates from mili sec\n",
    "def changeDateType(dates):\n",
    "    date_final = [i.split(\" \")[0] for i in dates]\n",
    "    converted_dates = []\n",
    "    for i in range(0,len(date_final)):  \n",
    "        date_object = datetime.strptime(date_final[i], '%m/%d/%Y')\n",
    "        converted_dates.append(date_object)\n",
    "    return converted_dates"
   ]
  },
  {
   "cell_type": "code",
   "execution_count": 5,
   "id": "ff808a9a",
   "metadata": {},
   "outputs": [],
   "source": [
    "def changeYYMMDD(date):\n",
    "    index = date.index(\"-\")\n",
    "    date = date[index-4:index+6]\n",
    "    date = date.replace(\"-\",\"/\")\n",
    "    date_object = datetime.strptime(date, '%Y/%m/%d')\n",
    "\n",
    "    return date_object\n"
   ]
  },
  {
   "cell_type": "code",
   "execution_count": 6,
   "id": "755f94e9",
   "metadata": {},
   "outputs": [],
   "source": [
    "def addBaseLine(idf,surveyKeep):\n",
    "    df = pd.read_csv(\"sassema baseline 3.16.2023.csv\")\n",
    "\n",
    "    if idf == \"773684\":\n",
    "        idf = \"773\"\n",
    "    \n",
    "    baselineDate = str(df.loc[df[\"ID\"]==idf, 'StartDate'])\n",
    "\n",
    "    date_object = changeYYMMDD(baselineDate)\n",
    "\n",
    "    surveyKeep.insert(0,date_object)\n",
    "\n"
   ]
  },
  {
   "cell_type": "code",
   "execution_count": 7,
   "id": "c6b1313a",
   "metadata": {},
   "outputs": [],
   "source": [
    "def removeIndex(item):\n",
    "    item = item.split(\" \")[0]\n",
    "    return item "
   ]
  },
  {
   "cell_type": "code",
   "execution_count": 8,
   "id": "4c2ee0c6",
   "metadata": {},
   "outputs": [
    {
     "name": "stdout",
     "output_type": "stream",
     "text": [
      "id--------- 117639\n",
      "id--------- 144932\n",
      "id--------- 158455\n",
      "id--------- 186277\n",
      "id--------- 294592\n",
      "id--------- 312317\n",
      "id--------- 313449\n",
      "id--------- 325268\n",
      "id--------- 351278\n",
      "id--------- 441255\n",
      "id--------- 446875\n",
      "id--------- 453897\n",
      "id--------- 481113\n",
      "id--------- 483491\n",
      "id--------- 483975\n",
      "id--------- 494149\n",
      "id--------- 495579\n",
      "id--------- 547832\n",
      "id--------- 575389\n",
      "id--------- 738648\n",
      "id--------- 752457\n",
      "id--------- 773684\n",
      "id--------- 855371\n",
      "id--------- 865112\n",
      "id--------- 873115\n",
      "id--------- 918349\n",
      "id--------- 931499\n",
      "id--------- 953571\n",
      "{7: 48, 5: 10, 0: 9, 6: 11, 4: 13, 1: 2, 2: 3, 3: 2}\n"
     ]
    }
   ],
   "source": [
    "dayDict={}\n",
    "sensingData = pd.read_csv(\"Activity_joined.csv\")\n",
    "for id in ids:\n",
    "    # dates\n",
    "    print(\"id---------\", id)\n",
    "    surveydates = df.loc[df[\"Q317\"]==id, 'StartDate'] \n",
    "    # add the survey dates of a user id to a list\n",
    "    surveyKeep = changeDateType(surveydates)\n",
    "\n",
    "    addBaseLine(id,surveyKeep)\n",
    "    \n",
    "    # create a list of surveys that we keep for each user \n",
    "    \n",
    "    i = 1\n",
    "    # discard current survey if the time interval between previous and current survey is not 7 \n",
    "    while i < len(surveyKeep):\n",
    "\n",
    "        numDays = surveyKeep[i] - surveyKeep[i-1]\n",
    "        strDays = str(numDays)\n",
    "\n",
    "        difference = strDays.split(\" \")[0]\n",
    "        difference = int(difference)\n",
    "\n",
    "        if difference < 7:\n",
    "            surveyKeep.pop(i) \n",
    "\n",
    "        else: \n",
    "            i = i + 1 \n",
    "\n",
    "\n",
    "    #create a list of sensing data\n",
    "\n",
    "    sensingDates = sensingData.loc[(sensingData[\"Userid\"])==int(id), ' senseStartTime'] #Userid in activity file is int (different from weekly survey)\n",
    "\n",
    "    # print(\"sensingDates ==\", sensingDates)\n",
    "    sensingKeep = []\n",
    "\n",
    "    if len(sensingDates) != 0:\n",
    "        # print(\"lentgth of cur sensing dates |||\", len(sensingDates))\n",
    "        for d in sensingDates:\n",
    "            date_object = changeYYMMDD(d)\n",
    "            if date_object not in sensingKeep:\n",
    "                sensingKeep.append(date_object)\n",
    "        # print(\"sensingKeep LOOKHERE ===\", sensingKeep)\n",
    "\n",
    "    \n",
    "    #for each id participant\n",
    "    #for each survey dates, find the sensing dates in between survey date and 7 days prior \n",
    "    for i in range(1,len(surveyKeep)):\n",
    "        if (len(sensingKeep) != 0):\n",
    "            count = 0\n",
    "            # print(\"survey date checkkk----\", surveyKeep[i])\n",
    "            for j in range(0,len(sensingKeep)):\n",
    "                # print(\"sensing date checkkk\", sensingKeep[j])\n",
    "\n",
    "                if surveyKeep[i] == sensingKeep[j]:\n",
    "                    numDiff = 0\n",
    "                else: \n",
    "                    numDiff = surveyKeep[i] - sensingKeep[j]\n",
    "                    numDiff = str(numDiff)\n",
    "                    numDiff = numDiff.split(\" \")[0]\n",
    "                    numDiff = int(numDiff)\n",
    "                if (numDiff < 7) and (numDiff >= 0):\n",
    "                    # print(\"CHECK WHEN 88888888888888 =======\", numDiff)\n",
    "                    count += 1\n",
    "            # print(\"check if count resettttttttttttt\", count)\n",
    "            if count not in dayDict:\n",
    "                dayDict[count] = 1\n",
    "            else:\n",
    "                dayDict[count] += 1\n",
    "\n",
    "print(dayDict)\n",
    "\n",
    "\n",
    "        \n",
    "\n",
    "\n"
   ]
  },
  {
   "cell_type": "code",
   "execution_count": 9,
   "id": "72fb77a7",
   "metadata": {},
   "outputs": [
    {
     "name": "stdout",
     "output_type": "stream",
     "text": [
      "{0: 9, 1: 2, 2: 3, 3: 2, 4: 13, 5: 10, 6: 11, 7: 48}\n"
     ]
    },
    {
     "data": {
      "image/png": "[encoded data removed]",
      "text/plain": [
       "<Figure size 640x480 with 1 Axes>"
      ]
     },
     "metadata": {},
     "output_type": "display_data"
    }
   ],
   "source": [
    "#sort for the plot\n",
    "myKeys = list(dayDict.keys())\n",
    "myKeys.sort()\n",
    "dayDict = {i: dayDict[i] for i in myKeys}\n",
    "print(dayDict)\n",
    "\n",
    "\n",
    "#plot the histogram\n",
    "\n",
    "interval_int = list(dayDict.keys())\n",
    "interval = []\n",
    "for i in interval_int:\n",
    "    interval.append(str(i))\n",
    "num = list(dayDict.values())\n",
    "\n",
    "plt.bar(interval, num)\n",
    "plt.title(\"Sensing Data Days between 2 Surveys\")\n",
    "plt.xlabel(\"number of days\")\n",
    "plt.ylabel(\"Frequency\")\n",
    "plt.show()"
   ]
  }
 ],
 "metadata": {
  "kernelspec": {
   "display_name": "Python 3 (ipykernel)",
   "language": "python",
   "name": "python3"
  },
  "language_info": {
   "codemirror_mode": {
    "name": "ipython",
    "version": 3
   },
   "file_extension": ".py",
   "mimetype": "text/x-python",
   "name": "python",
   "nbconvert_exporter": "python",
   "pygments_lexer": "ipython3",
   "version": "3.9.13"
  }
 },
 "nbformat": 4,
 "nbformat_minor": 5
}
