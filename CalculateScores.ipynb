{
 "cells": [
  {
   "cell_type": "code",
   "execution_count": null,
   "metadata": {},
   "outputs": [],
   "source": [
    "import csv\n",
    "import time\n",
    "import numpy as np\n",
    "import pandas as pd\n",
    "import datetime as dt\n",
    "from datetime import date\n",
    "from datetime import datetime\n",
    "from datetime import timedelta\n",
    "import matplotlib.pyplot as plt"
   ]
  },
  {
   "cell_type": "code",
   "execution_count": null,
   "metadata": {},
   "outputs": [],
   "source": [
    "df = pd.read_csv(\"Activity_clean.csv\")\n",
    "df = df.sort_values(by=['Userid','senseStartTimeMillis'],ascending=[True,True])\n",
    "\n",
    "# get the list of ordered ids\n",
    "ids = df[\"Userid\"].unique()\n",
    "\n",
    "de = pd.read_csv()"
   ]
  },
  {
   "cell_type": "code",
   "execution_count": null,
   "metadata": {},
   "outputs": [],
   "source": [
    "#for survey dates in the clean date list\n",
    "\n",
    "#add the scores up for each survey\n",
    "\n",
    "#return with a list of [id,survey date, scores, ADHD]"
   ]
  }
 ],
 "metadata": {
  "language_info": {
   "name": "python"
  },
  "orig_nbformat": 4
 },
 "nbformat": 4,
 "nbformat_minor": 2
}
