{
 "cells": [
  {
   "cell_type": "code",
   "execution_count": 1,
   "id": "95ea70e6",
   "metadata": {},
   "outputs": [],
   "source": [
    "import csv\n",
    "import time\n",
    "import numpy as np\n",
    "import pandas as pd\n",
    "import datetime as dt\n",
    "from datetime import date\n",
    "from datetime import datetime\n",
    "from datetime import timedelta\n",
    "import matplotlib.pyplot as plt"
   ]
  },
  {
   "cell_type": "code",
   "execution_count": 13,
   "id": "aad43309",
   "metadata": {},
   "outputs": [
    {
     "data": {
      "text/plain": [
       "array(['117639', '144932', '158455', '186277', '294592', '312317',\n",
       "       '313449', '325268', '351278', '441255', '446875', '453897',\n",
       "       '481113', '483491', '483975', '494149', '495579', '547832',\n",
       "       '575389', '738648', '752457', '773684', '855371', '865112',\n",
       "       '873115', '918349', '931499', '953571'], dtype=object)"
      ]
     },
     "execution_count": 13,
     "metadata": {},
     "output_type": "execute_result"
    }
   ],
   "source": [
    "df = pd.read_csv(\"weekly_data_for_visualization.csv\")\n",
    "ids = df[\"Q317\"].unique()\n",
    "ids=ids[:-2] #only keeping the numbers of ids\n",
    "ids"
   ]
  },
  {
   "cell_type": "code",
   "execution_count": 14,
   "id": "8860a35f",
   "metadata": {},
   "outputs": [],
   "source": [
    "# create a list of dates from mili sec\n",
    "def changeDateType(dates):\n",
    "    date_final = [i.split(\" \")[0] for i in dates]\n",
    "    converted_dates = []\n",
    "    for i in range(0,len(date_final)):  \n",
    "        date_object = datetime.strptime(date_final[i], '%m/%d/%Y')\n",
    "        converted_dates.append(date_object)\n",
    "    return converted_dates"
   ]
  },
  {
   "cell_type": "code",
   "execution_count": 26,
   "id": "4c2ee0c6",
   "metadata": {},
   "outputs": [
    {
     "ename": "TypeError",
     "evalue": "'<' not supported between instances of 'datetime.timedelta' and 'int'",
     "output_type": "error",
     "traceback": [
      "\u001b[0;31m---------------------------------------------------------------------------\u001b[0m",
      "\u001b[0;31mTypeError\u001b[0m                                 Traceback (most recent call last)",
      "Input \u001b[0;32mIn [26]\u001b[0m, in \u001b[0;36m<cell line: 3>\u001b[0;34m()\u001b[0m\n\u001b[1;32m     14\u001b[0m \u001b[38;5;28;01mfor\u001b[39;00m i \u001b[38;5;129;01min\u001b[39;00m \u001b[38;5;28mrange\u001b[39m(\u001b[38;5;241m1\u001b[39m,\u001b[38;5;28mlen\u001b[39m(tmp)):\n\u001b[1;32m     15\u001b[0m     numDays \u001b[38;5;241m=\u001b[39m tmp[i] \u001b[38;5;241m-\u001b[39m tmp[i\u001b[38;5;241m-\u001b[39m\u001b[38;5;241m1\u001b[39m]\n\u001b[0;32m---> 16\u001b[0m     \u001b[38;5;28;01mif\u001b[39;00m \u001b[43mnumDays\u001b[49m\u001b[43m \u001b[49m\u001b[38;5;241;43m<\u001b[39;49m\u001b[43m \u001b[49m\u001b[38;5;241;43m7\u001b[39;49m:\n\u001b[1;32m     17\u001b[0m         tmp\u001b[38;5;241m.\u001b[39mpop(i)\n",
      "\u001b[0;31mTypeError\u001b[0m: '<' not supported between instances of 'datetime.timedelta' and 'int'"
     ]
    }
   ],
   "source": [
    "dayDict={}\n",
    "\n",
    "for id in ids:\n",
    "    # dates \n",
    "    dates = df.loc[df[\"Q317\"]==id, 'StartDate']     \n",
    "    # add the survey dates of a user id to a list\n",
    "    tmp = changeDateType(dates)\n",
    "    \n",
    "    # create a list of surveys that we keep for each user \n",
    "#     surveys = []\n",
    "#     surveys.append(tmp[0])\n",
    "    \n",
    "    # discard current survey if the time interval between previous and current survey is not 7 \n",
    "    for i in range(1,len(tmp)):\n",
    "        numDays = tmp[i] - tmp[i-1]\n",
    "        if numDays < 7:\n",
    "            tmp.pop(i)\n",
    "    \n",
    "    # for each survey look back at sensing data 7 days before and see how many days of data we have \n",
    "            \n",
    "#         index = str(numDays)\n",
    "#         key = index.split(\" \")[0]\n",
    "#         key = int(key)\n",
    "#         if key not in dayDict:\n",
    "#             dayDict[key] = 1\n",
    "#         else:\n",
    "#             dayDict[key] += 1\n",
    "        \n",
    "# # print(tmp)\n",
    "# myKeys = list(dayDict.keys())\n",
    "# myKeys.sort()\n",
    "# dayDict = {i: dayDict[i] for i in myKeys}\n",
    "# print(dayDict)"
   ]
  },
  {
   "cell_type": "code",
   "execution_count": null,
   "id": "fdde83df",
   "metadata": {},
   "outputs": [],
   "source": []
  }
 ],
 "metadata": {
  "kernelspec": {
   "display_name": "Python 3 (ipykernel)",
   "language": "python",
   "name": "python3"
  },
  "language_info": {
   "codemirror_mode": {
    "name": "ipython",
    "version": 3
   },
   "file_extension": ".py",
   "mimetype": "text/x-python",
   "name": "python",
   "nbconvert_exporter": "python",
   "pygments_lexer": "ipython3",
   "version": "3.8.5"
  }
 },
 "nbformat": 4,
 "nbformat_minor": 5
}
